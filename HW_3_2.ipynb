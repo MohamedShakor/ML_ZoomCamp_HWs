{
 "cells": [
  {
   "cell_type": "code",
   "execution_count": 27,
   "id": "11ceb834",
   "metadata": {
    "ExecuteTime": {
     "end_time": "2022-09-26T12:17:11.520240Z",
     "start_time": "2022-09-26T12:17:11.511900Z"
    }
   },
   "outputs": [],
   "source": [
    "import pandas as pd\n",
    "import numpy as np\n",
    "import matplotlib.pyplot as plt\n",
    "import seaborn as sns"
   ]
  },
  {
   "cell_type": "code",
   "execution_count": 33,
   "id": "3d178c23",
   "metadata": {
    "ExecuteTime": {
     "end_time": "2022-09-26T12:17:26.179725Z",
     "start_time": "2022-09-26T12:17:26.098205Z"
    }
   },
   "outputs": [],
   "source": [
    "df = pd.read_csv('/media/sf_Shared_Folder/ML_ZoomCamp/housing.csv')"
   ]
  },
  {
   "cell_type": "code",
   "execution_count": 34,
   "id": "b2dafea7",
   "metadata": {
    "ExecuteTime": {
     "end_time": "2022-09-26T12:17:26.324911Z",
     "start_time": "2022-09-26T12:17:26.305444Z"
    }
   },
   "outputs": [],
   "source": [
    "df['total_bedrooms'] = df['total_bedrooms'].fillna(value=0,inplace=False)\n",
    "df[\"rooms_per_household\"] = df[\"total_rooms\"] / df[\"households\"]\n",
    "df[\"bedrooms_per_room\"] = df[\"total_bedrooms\"] / df[\"total_rooms\"]\n",
    "df[\"population_per_household\"] = df[\"population\"] / df[\"households\"]"
   ]
  },
  {
   "cell_type": "code",
   "execution_count": 35,
   "id": "3f2a6668",
   "metadata": {
    "ExecuteTime": {
     "end_time": "2022-09-26T12:17:26.619429Z",
     "start_time": "2022-09-26T12:17:26.541670Z"
    }
   },
   "outputs": [
    {
     "data": {
      "text/html": [
       "<div>\n",
       "<style scoped>\n",
       "    .dataframe tbody tr th:only-of-type {\n",
       "        vertical-align: middle;\n",
       "    }\n",
       "\n",
       "    .dataframe tbody tr th {\n",
       "        vertical-align: top;\n",
       "    }\n",
       "\n",
       "    .dataframe thead th {\n",
       "        text-align: right;\n",
       "    }\n",
       "</style>\n",
       "<table border=\"1\" class=\"dataframe\">\n",
       "  <thead>\n",
       "    <tr style=\"text-align: right;\">\n",
       "      <th></th>\n",
       "      <th>longitude</th>\n",
       "      <th>latitude</th>\n",
       "      <th>housing_median_age</th>\n",
       "      <th>total_rooms</th>\n",
       "      <th>total_bedrooms</th>\n",
       "      <th>population</th>\n",
       "      <th>households</th>\n",
       "      <th>median_income</th>\n",
       "      <th>ocean_proximity</th>\n",
       "      <th>rooms_per_household</th>\n",
       "      <th>bedrooms_per_room</th>\n",
       "      <th>population_per_household</th>\n",
       "      <th>median_house_value_lg</th>\n",
       "    </tr>\n",
       "  </thead>\n",
       "  <tbody>\n",
       "    <tr>\n",
       "      <th>0</th>\n",
       "      <td>-122.23</td>\n",
       "      <td>37.88</td>\n",
       "      <td>41.0</td>\n",
       "      <td>880.0</td>\n",
       "      <td>129.0</td>\n",
       "      <td>322.0</td>\n",
       "      <td>126.0</td>\n",
       "      <td>8.3252</td>\n",
       "      <td>NEAR BAY</td>\n",
       "      <td>6.984127</td>\n",
       "      <td>0.146591</td>\n",
       "      <td>2.555556</td>\n",
       "      <td>13.022766</td>\n",
       "    </tr>\n",
       "    <tr>\n",
       "      <th>1</th>\n",
       "      <td>-122.22</td>\n",
       "      <td>37.86</td>\n",
       "      <td>21.0</td>\n",
       "      <td>7099.0</td>\n",
       "      <td>1106.0</td>\n",
       "      <td>2401.0</td>\n",
       "      <td>1138.0</td>\n",
       "      <td>8.3014</td>\n",
       "      <td>NEAR BAY</td>\n",
       "      <td>6.238137</td>\n",
       "      <td>0.155797</td>\n",
       "      <td>2.109842</td>\n",
       "      <td>12.789687</td>\n",
       "    </tr>\n",
       "    <tr>\n",
       "      <th>2</th>\n",
       "      <td>-122.24</td>\n",
       "      <td>37.85</td>\n",
       "      <td>52.0</td>\n",
       "      <td>1467.0</td>\n",
       "      <td>190.0</td>\n",
       "      <td>496.0</td>\n",
       "      <td>177.0</td>\n",
       "      <td>7.2574</td>\n",
       "      <td>NEAR BAY</td>\n",
       "      <td>8.288136</td>\n",
       "      <td>0.129516</td>\n",
       "      <td>2.802260</td>\n",
       "      <td>12.771673</td>\n",
       "    </tr>\n",
       "    <tr>\n",
       "      <th>3</th>\n",
       "      <td>-122.25</td>\n",
       "      <td>37.85</td>\n",
       "      <td>52.0</td>\n",
       "      <td>1274.0</td>\n",
       "      <td>235.0</td>\n",
       "      <td>558.0</td>\n",
       "      <td>219.0</td>\n",
       "      <td>5.6431</td>\n",
       "      <td>NEAR BAY</td>\n",
       "      <td>5.817352</td>\n",
       "      <td>0.184458</td>\n",
       "      <td>2.547945</td>\n",
       "      <td>12.740520</td>\n",
       "    </tr>\n",
       "    <tr>\n",
       "      <th>4</th>\n",
       "      <td>-122.25</td>\n",
       "      <td>37.85</td>\n",
       "      <td>52.0</td>\n",
       "      <td>1627.0</td>\n",
       "      <td>280.0</td>\n",
       "      <td>565.0</td>\n",
       "      <td>259.0</td>\n",
       "      <td>3.8462</td>\n",
       "      <td>NEAR BAY</td>\n",
       "      <td>6.281853</td>\n",
       "      <td>0.172096</td>\n",
       "      <td>2.181467</td>\n",
       "      <td>12.743154</td>\n",
       "    </tr>\n",
       "  </tbody>\n",
       "</table>\n",
       "</div>"
      ],
      "text/plain": [
       "   longitude  latitude  housing_median_age  total_rooms  total_bedrooms  \\\n",
       "0    -122.23     37.88                41.0        880.0           129.0   \n",
       "1    -122.22     37.86                21.0       7099.0          1106.0   \n",
       "2    -122.24     37.85                52.0       1467.0           190.0   \n",
       "3    -122.25     37.85                52.0       1274.0           235.0   \n",
       "4    -122.25     37.85                52.0       1627.0           280.0   \n",
       "\n",
       "   population  households  median_income ocean_proximity  rooms_per_household  \\\n",
       "0       322.0       126.0         8.3252        NEAR BAY             6.984127   \n",
       "1      2401.0      1138.0         8.3014        NEAR BAY             6.238137   \n",
       "2       496.0       177.0         7.2574        NEAR BAY             8.288136   \n",
       "3       558.0       219.0         5.6431        NEAR BAY             5.817352   \n",
       "4       565.0       259.0         3.8462        NEAR BAY             6.281853   \n",
       "\n",
       "   bedrooms_per_room  population_per_household  median_house_value_lg  \n",
       "0           0.146591                  2.555556              13.022766  \n",
       "1           0.155797                  2.109842              12.789687  \n",
       "2           0.129516                  2.802260              12.771673  \n",
       "3           0.184458                  2.547945              12.740520  \n",
       "4           0.172096                  2.181467              12.743154  "
      ]
     },
     "execution_count": 35,
     "metadata": {},
     "output_type": "execute_result"
    }
   ],
   "source": [
    "df['median_house_value_lg'] = np.log1p(df.median_house_value)\n",
    "df=df.drop('median_house_value',axis=1)\n",
    "df.head()"
   ]
  },
  {
   "cell_type": "markdown",
   "id": "79fb8dd8",
   "metadata": {},
   "source": [
    "**One-hot encoding**"
   ]
  },
  {
   "cell_type": "code",
   "execution_count": 36,
   "id": "8c3f6c64",
   "metadata": {
    "ExecuteTime": {
     "end_time": "2022-09-26T12:17:27.050687Z",
     "start_time": "2022-09-26T12:17:26.942580Z"
    }
   },
   "outputs": [
    {
     "data": {
      "text/html": [
       "<div>\n",
       "<style scoped>\n",
       "    .dataframe tbody tr th:only-of-type {\n",
       "        vertical-align: middle;\n",
       "    }\n",
       "\n",
       "    .dataframe tbody tr th {\n",
       "        vertical-align: top;\n",
       "    }\n",
       "\n",
       "    .dataframe thead th {\n",
       "        text-align: right;\n",
       "    }\n",
       "</style>\n",
       "<table border=\"1\" class=\"dataframe\">\n",
       "  <thead>\n",
       "    <tr style=\"text-align: right;\">\n",
       "      <th></th>\n",
       "      <th>longitude</th>\n",
       "      <th>latitude</th>\n",
       "      <th>housing_median_age</th>\n",
       "      <th>total_rooms</th>\n",
       "      <th>total_bedrooms</th>\n",
       "      <th>population</th>\n",
       "      <th>households</th>\n",
       "      <th>median_income</th>\n",
       "      <th>rooms_per_household</th>\n",
       "      <th>bedrooms_per_room</th>\n",
       "      <th>population_per_household</th>\n",
       "      <th>median_house_value_lg</th>\n",
       "      <th>&lt;1H OCEAN</th>\n",
       "      <th>INLAND</th>\n",
       "      <th>ISLAND</th>\n",
       "      <th>NEAR BAY</th>\n",
       "      <th>NEAR OCEAN</th>\n",
       "    </tr>\n",
       "  </thead>\n",
       "  <tbody>\n",
       "    <tr>\n",
       "      <th>0</th>\n",
       "      <td>-122.23</td>\n",
       "      <td>37.88</td>\n",
       "      <td>41.0</td>\n",
       "      <td>880.0</td>\n",
       "      <td>129.0</td>\n",
       "      <td>322.0</td>\n",
       "      <td>126.0</td>\n",
       "      <td>8.3252</td>\n",
       "      <td>6.984127</td>\n",
       "      <td>0.146591</td>\n",
       "      <td>2.555556</td>\n",
       "      <td>13.022766</td>\n",
       "      <td>0.0</td>\n",
       "      <td>0.0</td>\n",
       "      <td>0.0</td>\n",
       "      <td>1.0</td>\n",
       "      <td>0.0</td>\n",
       "    </tr>\n",
       "    <tr>\n",
       "      <th>1</th>\n",
       "      <td>-122.22</td>\n",
       "      <td>37.86</td>\n",
       "      <td>21.0</td>\n",
       "      <td>7099.0</td>\n",
       "      <td>1106.0</td>\n",
       "      <td>2401.0</td>\n",
       "      <td>1138.0</td>\n",
       "      <td>8.3014</td>\n",
       "      <td>6.238137</td>\n",
       "      <td>0.155797</td>\n",
       "      <td>2.109842</td>\n",
       "      <td>12.789687</td>\n",
       "      <td>0.0</td>\n",
       "      <td>0.0</td>\n",
       "      <td>0.0</td>\n",
       "      <td>1.0</td>\n",
       "      <td>0.0</td>\n",
       "    </tr>\n",
       "    <tr>\n",
       "      <th>2</th>\n",
       "      <td>-122.24</td>\n",
       "      <td>37.85</td>\n",
       "      <td>52.0</td>\n",
       "      <td>1467.0</td>\n",
       "      <td>190.0</td>\n",
       "      <td>496.0</td>\n",
       "      <td>177.0</td>\n",
       "      <td>7.2574</td>\n",
       "      <td>8.288136</td>\n",
       "      <td>0.129516</td>\n",
       "      <td>2.802260</td>\n",
       "      <td>12.771673</td>\n",
       "      <td>0.0</td>\n",
       "      <td>0.0</td>\n",
       "      <td>0.0</td>\n",
       "      <td>1.0</td>\n",
       "      <td>0.0</td>\n",
       "    </tr>\n",
       "    <tr>\n",
       "      <th>3</th>\n",
       "      <td>-122.25</td>\n",
       "      <td>37.85</td>\n",
       "      <td>52.0</td>\n",
       "      <td>1274.0</td>\n",
       "      <td>235.0</td>\n",
       "      <td>558.0</td>\n",
       "      <td>219.0</td>\n",
       "      <td>5.6431</td>\n",
       "      <td>5.817352</td>\n",
       "      <td>0.184458</td>\n",
       "      <td>2.547945</td>\n",
       "      <td>12.740520</td>\n",
       "      <td>0.0</td>\n",
       "      <td>0.0</td>\n",
       "      <td>0.0</td>\n",
       "      <td>1.0</td>\n",
       "      <td>0.0</td>\n",
       "    </tr>\n",
       "    <tr>\n",
       "      <th>4</th>\n",
       "      <td>-122.25</td>\n",
       "      <td>37.85</td>\n",
       "      <td>52.0</td>\n",
       "      <td>1627.0</td>\n",
       "      <td>280.0</td>\n",
       "      <td>565.0</td>\n",
       "      <td>259.0</td>\n",
       "      <td>3.8462</td>\n",
       "      <td>6.281853</td>\n",
       "      <td>0.172096</td>\n",
       "      <td>2.181467</td>\n",
       "      <td>12.743154</td>\n",
       "      <td>0.0</td>\n",
       "      <td>0.0</td>\n",
       "      <td>0.0</td>\n",
       "      <td>1.0</td>\n",
       "      <td>0.0</td>\n",
       "    </tr>\n",
       "  </tbody>\n",
       "</table>\n",
       "</div>"
      ],
      "text/plain": [
       "   longitude  latitude  housing_median_age  total_rooms  total_bedrooms  \\\n",
       "0    -122.23     37.88                41.0        880.0           129.0   \n",
       "1    -122.22     37.86                21.0       7099.0          1106.0   \n",
       "2    -122.24     37.85                52.0       1467.0           190.0   \n",
       "3    -122.25     37.85                52.0       1274.0           235.0   \n",
       "4    -122.25     37.85                52.0       1627.0           280.0   \n",
       "\n",
       "   population  households  median_income  rooms_per_household  \\\n",
       "0       322.0       126.0         8.3252             6.984127   \n",
       "1      2401.0      1138.0         8.3014             6.238137   \n",
       "2       496.0       177.0         7.2574             8.288136   \n",
       "3       558.0       219.0         5.6431             5.817352   \n",
       "4       565.0       259.0         3.8462             6.281853   \n",
       "\n",
       "   bedrooms_per_room  population_per_household  median_house_value_lg  \\\n",
       "0           0.146591                  2.555556              13.022766   \n",
       "1           0.155797                  2.109842              12.789687   \n",
       "2           0.129516                  2.802260              12.771673   \n",
       "3           0.184458                  2.547945              12.740520   \n",
       "4           0.172096                  2.181467              12.743154   \n",
       "\n",
       "   <1H OCEAN  INLAND  ISLAND  NEAR BAY  NEAR OCEAN  \n",
       "0        0.0     0.0     0.0       1.0         0.0  \n",
       "1        0.0     0.0     0.0       1.0         0.0  \n",
       "2        0.0     0.0     0.0       1.0         0.0  \n",
       "3        0.0     0.0     0.0       1.0         0.0  \n",
       "4        0.0     0.0     0.0       1.0         0.0  "
      ]
     },
     "execution_count": 36,
     "metadata": {},
     "output_type": "execute_result"
    }
   ],
   "source": [
    "\n",
    "from sklearn.preprocessing import OneHotEncoder\n",
    "\n",
    "ohe = OneHotEncoder()\n",
    "transformed = ohe.fit_transform(df[['ocean_proximity']])\n",
    "\n",
    "\n",
    "\n",
    "# to build these columns back into the DataFrame\n",
    "df[ohe.categories_[0]] = transformed.toarray()\n",
    "df= df.drop('ocean_proximity',axis=1)\n",
    "df.head()"
   ]
  },
  {
   "cell_type": "code",
   "execution_count": 37,
   "id": "dbb480bb",
   "metadata": {
    "ExecuteTime": {
     "end_time": "2022-09-26T12:17:39.878386Z",
     "start_time": "2022-09-26T12:17:39.851394Z"
    }
   },
   "outputs": [],
   "source": [
    "from sklearn.model_selection import train_test_split\n",
    "\n",
    "df_full_train, df_test = train_test_split(df, test_size=0.2, random_state=42)\n",
    "df_train, df_val = train_test_split(df_full_train, test_size=0.25, random_state=42)"
   ]
  },
  {
   "cell_type": "code",
   "execution_count": 38,
   "id": "bbd38c2c",
   "metadata": {
    "ExecuteTime": {
     "end_time": "2022-09-26T12:17:40.117886Z",
     "start_time": "2022-09-26T12:17:40.094690Z"
    }
   },
   "outputs": [],
   "source": [
    "df_train = df_train.reset_index(drop=True)\n",
    "df_val = df_val.reset_index(drop=True)\n",
    "df_test = df_test.reset_index(drop=True)\n",
    "\n",
    "y_train = df_train.median_house_value_lg.values\n",
    "y_val   = df_val.median_house_value_lg.values\n",
    "y_test  = df_test.median_house_value_lg.values\n",
    "\n",
    "X_train = df_train.drop('median_house_value_lg',axis=1)\n",
    "X_val   = df_val.drop('median_house_value_lg',axis=1)\n",
    "X_test  = df_test.drop('median_house_value_lg',axis=1)\n",
    "\n"
   ]
  },
  {
   "cell_type": "code",
   "execution_count": 39,
   "id": "ad886981",
   "metadata": {
    "ExecuteTime": {
     "end_time": "2022-09-26T12:17:43.858738Z",
     "start_time": "2022-09-26T12:17:43.847438Z"
    }
   },
   "outputs": [],
   "source": [
    "from sklearn.linear_model import Ridge\n",
    "from sklearn.metrics import mean_squared_error\n",
    "a = [0, 0.01, 0.1, 1, 10]                 \n",
    "modelr = Ridge(alpha=a, solver=\"sag\", random_state=42)"
   ]
  },
  {
   "cell_type": "code",
   "execution_count": 60,
   "id": "30261f71",
   "metadata": {
    "ExecuteTime": {
     "end_time": "2022-09-26T12:28:33.531975Z",
     "start_time": "2022-09-26T12:28:30.934312Z"
    }
   },
   "outputs": [
    {
     "name": "stdout",
     "output_type": "stream",
     "text": [
      "0====== 0.27464262613642076\n"
     ]
    }
   ],
   "source": [
    "modelr = Ridge(alpha=0, solver=\"sag\", random_state=42)\n",
    "modelr.fit(X_train, y_train)\n",
    "y_pred = modelr.predict(X_val)\n",
    "rmse = mean_squared_error(y_val, y_pred)\n",
    "\n",
    "print (\"0======\", b)"
   ]
  },
  {
   "cell_type": "code",
   "execution_count": 47,
   "id": "9b105775",
   "metadata": {
    "ExecuteTime": {
     "end_time": "2022-09-26T12:20:56.068110Z",
     "start_time": "2022-09-26T12:20:53.113690Z"
    }
   },
   "outputs": [
    {
     "name": "stdout",
     "output_type": "stream",
     "text": [
      "0.01====== 0.2746426261543594\n"
     ]
    }
   ],
   "source": [
    "modelr = Ridge(alpha=0.01, solver=\"sag\", random_state=42)\n",
    "modelr.fit(X_train, y_train)\n",
    "y_pred = modelr.predict(X_val)\n",
    "rmse = mean_squared_error(y_val, y_pred)\n",
    "print (\"0.01======\", rmse)"
   ]
  },
  {
   "cell_type": "code",
   "execution_count": 48,
   "id": "935bf8e7",
   "metadata": {
    "ExecuteTime": {
     "end_time": "2022-09-26T12:20:58.757161Z",
     "start_time": "2022-09-26T12:20:56.078736Z"
    }
   },
   "outputs": [
    {
     "name": "stdout",
     "output_type": "stream",
     "text": [
      "0.1====== 0.274642626324762\n"
     ]
    }
   ],
   "source": [
    "modelr = Ridge(alpha=0.1, solver=\"sag\", random_state=42)\n",
    "modelr.fit(X_train, y_train)\n",
    "y_pred = modelr.predict(X_val)\n",
    "rmse = mean_squared_error(y_val, y_pred)\n",
    "print (\"0.1======\", rmse)"
   ]
  },
  {
   "cell_type": "code",
   "execution_count": 49,
   "id": "f5d7155a",
   "metadata": {
    "ExecuteTime": {
     "end_time": "2022-09-26T12:21:33.057607Z",
     "start_time": "2022-09-26T12:21:29.516728Z"
    }
   },
   "outputs": [
    {
     "name": "stdout",
     "output_type": "stream",
     "text": [
      "1====== 0.27464262803776485\n"
     ]
    }
   ],
   "source": [
    "modelr = Ridge(alpha=1, solver=\"sag\", random_state=42)\n",
    "modelr.fit(X_train, y_train)\n",
    "y_pred = modelr.predict(X_val)\n",
    "rmse = mean_squared_error(y_val, y_pred)\n",
    "print (\"1======\", rmse)"
   ]
  },
  {
   "cell_type": "code",
   "execution_count": 50,
   "id": "619c7d0d",
   "metadata": {
    "ExecuteTime": {
     "end_time": "2022-09-26T12:21:42.462722Z",
     "start_time": "2022-09-26T12:21:39.794996Z"
    }
   },
   "outputs": [
    {
     "name": "stdout",
     "output_type": "stream",
     "text": [
      "10====== 0.2746426451408677\n"
     ]
    }
   ],
   "source": [
    "modelr = Ridge(alpha=10, solver=\"sag\", random_state=42)\n",
    "modelr.fit(X_train, y_train)\n",
    "y_pred = modelr.predict(X_val)\n",
    "rmse = mean_squared_error(y_val, y_pred)\n",
    "print (\"10======\", rmse)"
   ]
  },
  {
   "cell_type": "code",
   "execution_count": 55,
   "id": "5f6c9f4c",
   "metadata": {
    "ExecuteTime": {
     "end_time": "2022-09-26T12:26:35.992331Z",
     "start_time": "2022-09-26T12:26:35.984926Z"
    }
   },
   "outputs": [],
   "source": [
    "def rmse(a,b):\n",
    "    er=a - b\n",
    "    mse = (er**2).mean()\n",
    "    return np.sqrt(mse)"
   ]
  },
  {
   "cell_type": "code",
   "execution_count": 52,
   "id": "caf32e3f",
   "metadata": {
    "ExecuteTime": {
     "end_time": "2022-09-26T12:25:06.753269Z",
     "start_time": "2022-09-26T12:25:06.736766Z"
    }
   },
   "outputs": [
    {
     "data": {
      "text/plain": [
       "0.5240635888333283"
      ]
     },
     "execution_count": 52,
     "metadata": {},
     "output_type": "execute_result"
    }
   ],
   "source": [
    "rmse(y_val,y_pred)"
   ]
  },
  {
   "cell_type": "code",
   "execution_count": null,
   "id": "b6217eb9",
   "metadata": {},
   "outputs": [],
   "source": []
  }
 ],
 "metadata": {
  "kernelspec": {
   "display_name": "Python 3 (ipykernel)",
   "language": "python",
   "name": "python3"
  },
  "language_info": {
   "codemirror_mode": {
    "name": "ipython",
    "version": 3
   },
   "file_extension": ".py",
   "mimetype": "text/x-python",
   "name": "python",
   "nbconvert_exporter": "python",
   "pygments_lexer": "ipython3",
   "version": "3.9.12"
  },
  "toc": {
   "base_numbering": 1,
   "nav_menu": {},
   "number_sections": true,
   "sideBar": true,
   "skip_h1_title": false,
   "title_cell": "Table of Contents",
   "title_sidebar": "Contents",
   "toc_cell": false,
   "toc_position": {},
   "toc_section_display": true,
   "toc_window_display": false
  }
 },
 "nbformat": 4,
 "nbformat_minor": 5
}
