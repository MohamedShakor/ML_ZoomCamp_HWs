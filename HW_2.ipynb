{
 "cells": [
  {
   "cell_type": "code",
   "execution_count": 1,
   "id": "b6435572",
   "metadata": {
    "ExecuteTime": {
     "end_time": "2022-09-17T16:54:38.384161Z",
     "start_time": "2022-09-17T16:54:34.653058Z"
    }
   },
   "outputs": [],
   "source": [
    "import pandas as pd\n",
    "import numpy as np"
   ]
  },
  {
   "cell_type": "code",
   "execution_count": 2,
   "id": "3e96913e",
   "metadata": {
    "ExecuteTime": {
     "end_time": "2022-09-17T16:54:38.710911Z",
     "start_time": "2022-09-17T16:54:38.421015Z"
    }
   },
   "outputs": [],
   "source": [
    "df = pd.read_csv('/media/sf_Shared_Folder/ML_ZoomCamp/housing.csv')"
   ]
  },
  {
   "cell_type": "code",
   "execution_count": 3,
   "id": "86555103",
   "metadata": {
    "ExecuteTime": {
     "end_time": "2022-09-17T16:54:38.902717Z",
     "start_time": "2022-09-17T16:54:38.724144Z"
    }
   },
   "outputs": [
    {
     "data": {
      "text/html": [
       "<div>\n",
       "<style scoped>\n",
       "    .dataframe tbody tr th:only-of-type {\n",
       "        vertical-align: middle;\n",
       "    }\n",
       "\n",
       "    .dataframe tbody tr th {\n",
       "        vertical-align: top;\n",
       "    }\n",
       "\n",
       "    .dataframe thead th {\n",
       "        text-align: right;\n",
       "    }\n",
       "</style>\n",
       "<table border=\"1\" class=\"dataframe\">\n",
       "  <thead>\n",
       "    <tr style=\"text-align: right;\">\n",
       "      <th></th>\n",
       "      <th>longitude</th>\n",
       "      <th>latitude</th>\n",
       "      <th>housing_median_age</th>\n",
       "      <th>total_rooms</th>\n",
       "      <th>total_bedrooms</th>\n",
       "      <th>population</th>\n",
       "      <th>households</th>\n",
       "      <th>median_income</th>\n",
       "      <th>median_house_value</th>\n",
       "      <th>ocean_proximity</th>\n",
       "    </tr>\n",
       "  </thead>\n",
       "  <tbody>\n",
       "    <tr>\n",
       "      <th>0</th>\n",
       "      <td>-122.23</td>\n",
       "      <td>37.88</td>\n",
       "      <td>41.0</td>\n",
       "      <td>880.0</td>\n",
       "      <td>129.0</td>\n",
       "      <td>322.0</td>\n",
       "      <td>126.0</td>\n",
       "      <td>8.3252</td>\n",
       "      <td>452600.0</td>\n",
       "      <td>NEAR BAY</td>\n",
       "    </tr>\n",
       "    <tr>\n",
       "      <th>1</th>\n",
       "      <td>-122.22</td>\n",
       "      <td>37.86</td>\n",
       "      <td>21.0</td>\n",
       "      <td>7099.0</td>\n",
       "      <td>1106.0</td>\n",
       "      <td>2401.0</td>\n",
       "      <td>1138.0</td>\n",
       "      <td>8.3014</td>\n",
       "      <td>358500.0</td>\n",
       "      <td>NEAR BAY</td>\n",
       "    </tr>\n",
       "    <tr>\n",
       "      <th>2</th>\n",
       "      <td>-122.24</td>\n",
       "      <td>37.85</td>\n",
       "      <td>52.0</td>\n",
       "      <td>1467.0</td>\n",
       "      <td>190.0</td>\n",
       "      <td>496.0</td>\n",
       "      <td>177.0</td>\n",
       "      <td>7.2574</td>\n",
       "      <td>352100.0</td>\n",
       "      <td>NEAR BAY</td>\n",
       "    </tr>\n",
       "    <tr>\n",
       "      <th>3</th>\n",
       "      <td>-122.25</td>\n",
       "      <td>37.85</td>\n",
       "      <td>52.0</td>\n",
       "      <td>1274.0</td>\n",
       "      <td>235.0</td>\n",
       "      <td>558.0</td>\n",
       "      <td>219.0</td>\n",
       "      <td>5.6431</td>\n",
       "      <td>341300.0</td>\n",
       "      <td>NEAR BAY</td>\n",
       "    </tr>\n",
       "    <tr>\n",
       "      <th>4</th>\n",
       "      <td>-122.25</td>\n",
       "      <td>37.85</td>\n",
       "      <td>52.0</td>\n",
       "      <td>1627.0</td>\n",
       "      <td>280.0</td>\n",
       "      <td>565.0</td>\n",
       "      <td>259.0</td>\n",
       "      <td>3.8462</td>\n",
       "      <td>342200.0</td>\n",
       "      <td>NEAR BAY</td>\n",
       "    </tr>\n",
       "    <tr>\n",
       "      <th>5</th>\n",
       "      <td>-122.25</td>\n",
       "      <td>37.85</td>\n",
       "      <td>52.0</td>\n",
       "      <td>919.0</td>\n",
       "      <td>213.0</td>\n",
       "      <td>413.0</td>\n",
       "      <td>193.0</td>\n",
       "      <td>4.0368</td>\n",
       "      <td>269700.0</td>\n",
       "      <td>NEAR BAY</td>\n",
       "    </tr>\n",
       "    <tr>\n",
       "      <th>6</th>\n",
       "      <td>-122.25</td>\n",
       "      <td>37.84</td>\n",
       "      <td>52.0</td>\n",
       "      <td>2535.0</td>\n",
       "      <td>489.0</td>\n",
       "      <td>1094.0</td>\n",
       "      <td>514.0</td>\n",
       "      <td>3.6591</td>\n",
       "      <td>299200.0</td>\n",
       "      <td>NEAR BAY</td>\n",
       "    </tr>\n",
       "    <tr>\n",
       "      <th>7</th>\n",
       "      <td>-122.25</td>\n",
       "      <td>37.84</td>\n",
       "      <td>52.0</td>\n",
       "      <td>3104.0</td>\n",
       "      <td>687.0</td>\n",
       "      <td>1157.0</td>\n",
       "      <td>647.0</td>\n",
       "      <td>3.1200</td>\n",
       "      <td>241400.0</td>\n",
       "      <td>NEAR BAY</td>\n",
       "    </tr>\n",
       "    <tr>\n",
       "      <th>8</th>\n",
       "      <td>-122.26</td>\n",
       "      <td>37.84</td>\n",
       "      <td>42.0</td>\n",
       "      <td>2555.0</td>\n",
       "      <td>665.0</td>\n",
       "      <td>1206.0</td>\n",
       "      <td>595.0</td>\n",
       "      <td>2.0804</td>\n",
       "      <td>226700.0</td>\n",
       "      <td>NEAR BAY</td>\n",
       "    </tr>\n",
       "    <tr>\n",
       "      <th>9</th>\n",
       "      <td>-122.25</td>\n",
       "      <td>37.84</td>\n",
       "      <td>52.0</td>\n",
       "      <td>3549.0</td>\n",
       "      <td>707.0</td>\n",
       "      <td>1551.0</td>\n",
       "      <td>714.0</td>\n",
       "      <td>3.6912</td>\n",
       "      <td>261100.0</td>\n",
       "      <td>NEAR BAY</td>\n",
       "    </tr>\n",
       "    <tr>\n",
       "      <th>10</th>\n",
       "      <td>-122.26</td>\n",
       "      <td>37.85</td>\n",
       "      <td>52.0</td>\n",
       "      <td>2202.0</td>\n",
       "      <td>434.0</td>\n",
       "      <td>910.0</td>\n",
       "      <td>402.0</td>\n",
       "      <td>3.2031</td>\n",
       "      <td>281500.0</td>\n",
       "      <td>NEAR BAY</td>\n",
       "    </tr>\n",
       "    <tr>\n",
       "      <th>11</th>\n",
       "      <td>-122.26</td>\n",
       "      <td>37.85</td>\n",
       "      <td>52.0</td>\n",
       "      <td>3503.0</td>\n",
       "      <td>752.0</td>\n",
       "      <td>1504.0</td>\n",
       "      <td>734.0</td>\n",
       "      <td>3.2705</td>\n",
       "      <td>241800.0</td>\n",
       "      <td>NEAR BAY</td>\n",
       "    </tr>\n",
       "    <tr>\n",
       "      <th>12</th>\n",
       "      <td>-122.26</td>\n",
       "      <td>37.85</td>\n",
       "      <td>52.0</td>\n",
       "      <td>2491.0</td>\n",
       "      <td>474.0</td>\n",
       "      <td>1098.0</td>\n",
       "      <td>468.0</td>\n",
       "      <td>3.0750</td>\n",
       "      <td>213500.0</td>\n",
       "      <td>NEAR BAY</td>\n",
       "    </tr>\n",
       "    <tr>\n",
       "      <th>13</th>\n",
       "      <td>-122.26</td>\n",
       "      <td>37.84</td>\n",
       "      <td>52.0</td>\n",
       "      <td>696.0</td>\n",
       "      <td>191.0</td>\n",
       "      <td>345.0</td>\n",
       "      <td>174.0</td>\n",
       "      <td>2.6736</td>\n",
       "      <td>191300.0</td>\n",
       "      <td>NEAR BAY</td>\n",
       "    </tr>\n",
       "    <tr>\n",
       "      <th>14</th>\n",
       "      <td>-122.26</td>\n",
       "      <td>37.85</td>\n",
       "      <td>52.0</td>\n",
       "      <td>2643.0</td>\n",
       "      <td>626.0</td>\n",
       "      <td>1212.0</td>\n",
       "      <td>620.0</td>\n",
       "      <td>1.9167</td>\n",
       "      <td>159200.0</td>\n",
       "      <td>NEAR BAY</td>\n",
       "    </tr>\n",
       "    <tr>\n",
       "      <th>15</th>\n",
       "      <td>-122.26</td>\n",
       "      <td>37.85</td>\n",
       "      <td>50.0</td>\n",
       "      <td>1120.0</td>\n",
       "      <td>283.0</td>\n",
       "      <td>697.0</td>\n",
       "      <td>264.0</td>\n",
       "      <td>2.1250</td>\n",
       "      <td>140000.0</td>\n",
       "      <td>NEAR BAY</td>\n",
       "    </tr>\n",
       "    <tr>\n",
       "      <th>16</th>\n",
       "      <td>-122.27</td>\n",
       "      <td>37.85</td>\n",
       "      <td>52.0</td>\n",
       "      <td>1966.0</td>\n",
       "      <td>347.0</td>\n",
       "      <td>793.0</td>\n",
       "      <td>331.0</td>\n",
       "      <td>2.7750</td>\n",
       "      <td>152500.0</td>\n",
       "      <td>NEAR BAY</td>\n",
       "    </tr>\n",
       "    <tr>\n",
       "      <th>17</th>\n",
       "      <td>-122.27</td>\n",
       "      <td>37.85</td>\n",
       "      <td>52.0</td>\n",
       "      <td>1228.0</td>\n",
       "      <td>293.0</td>\n",
       "      <td>648.0</td>\n",
       "      <td>303.0</td>\n",
       "      <td>2.1202</td>\n",
       "      <td>155500.0</td>\n",
       "      <td>NEAR BAY</td>\n",
       "    </tr>\n",
       "    <tr>\n",
       "      <th>18</th>\n",
       "      <td>-122.26</td>\n",
       "      <td>37.84</td>\n",
       "      <td>50.0</td>\n",
       "      <td>2239.0</td>\n",
       "      <td>455.0</td>\n",
       "      <td>990.0</td>\n",
       "      <td>419.0</td>\n",
       "      <td>1.9911</td>\n",
       "      <td>158700.0</td>\n",
       "      <td>NEAR BAY</td>\n",
       "    </tr>\n",
       "    <tr>\n",
       "      <th>19</th>\n",
       "      <td>-122.27</td>\n",
       "      <td>37.84</td>\n",
       "      <td>52.0</td>\n",
       "      <td>1503.0</td>\n",
       "      <td>298.0</td>\n",
       "      <td>690.0</td>\n",
       "      <td>275.0</td>\n",
       "      <td>2.6033</td>\n",
       "      <td>162900.0</td>\n",
       "      <td>NEAR BAY</td>\n",
       "    </tr>\n",
       "  </tbody>\n",
       "</table>\n",
       "</div>"
      ],
      "text/plain": [
       "    longitude  latitude  housing_median_age  total_rooms  total_bedrooms  \\\n",
       "0     -122.23     37.88                41.0        880.0           129.0   \n",
       "1     -122.22     37.86                21.0       7099.0          1106.0   \n",
       "2     -122.24     37.85                52.0       1467.0           190.0   \n",
       "3     -122.25     37.85                52.0       1274.0           235.0   \n",
       "4     -122.25     37.85                52.0       1627.0           280.0   \n",
       "5     -122.25     37.85                52.0        919.0           213.0   \n",
       "6     -122.25     37.84                52.0       2535.0           489.0   \n",
       "7     -122.25     37.84                52.0       3104.0           687.0   \n",
       "8     -122.26     37.84                42.0       2555.0           665.0   \n",
       "9     -122.25     37.84                52.0       3549.0           707.0   \n",
       "10    -122.26     37.85                52.0       2202.0           434.0   \n",
       "11    -122.26     37.85                52.0       3503.0           752.0   \n",
       "12    -122.26     37.85                52.0       2491.0           474.0   \n",
       "13    -122.26     37.84                52.0        696.0           191.0   \n",
       "14    -122.26     37.85                52.0       2643.0           626.0   \n",
       "15    -122.26     37.85                50.0       1120.0           283.0   \n",
       "16    -122.27     37.85                52.0       1966.0           347.0   \n",
       "17    -122.27     37.85                52.0       1228.0           293.0   \n",
       "18    -122.26     37.84                50.0       2239.0           455.0   \n",
       "19    -122.27     37.84                52.0       1503.0           298.0   \n",
       "\n",
       "    population  households  median_income  median_house_value ocean_proximity  \n",
       "0        322.0       126.0         8.3252            452600.0        NEAR BAY  \n",
       "1       2401.0      1138.0         8.3014            358500.0        NEAR BAY  \n",
       "2        496.0       177.0         7.2574            352100.0        NEAR BAY  \n",
       "3        558.0       219.0         5.6431            341300.0        NEAR BAY  \n",
       "4        565.0       259.0         3.8462            342200.0        NEAR BAY  \n",
       "5        413.0       193.0         4.0368            269700.0        NEAR BAY  \n",
       "6       1094.0       514.0         3.6591            299200.0        NEAR BAY  \n",
       "7       1157.0       647.0         3.1200            241400.0        NEAR BAY  \n",
       "8       1206.0       595.0         2.0804            226700.0        NEAR BAY  \n",
       "9       1551.0       714.0         3.6912            261100.0        NEAR BAY  \n",
       "10       910.0       402.0         3.2031            281500.0        NEAR BAY  \n",
       "11      1504.0       734.0         3.2705            241800.0        NEAR BAY  \n",
       "12      1098.0       468.0         3.0750            213500.0        NEAR BAY  \n",
       "13       345.0       174.0         2.6736            191300.0        NEAR BAY  \n",
       "14      1212.0       620.0         1.9167            159200.0        NEAR BAY  \n",
       "15       697.0       264.0         2.1250            140000.0        NEAR BAY  \n",
       "16       793.0       331.0         2.7750            152500.0        NEAR BAY  \n",
       "17       648.0       303.0         2.1202            155500.0        NEAR BAY  \n",
       "18       990.0       419.0         1.9911            158700.0        NEAR BAY  \n",
       "19       690.0       275.0         2.6033            162900.0        NEAR BAY  "
      ]
     },
     "execution_count": 3,
     "metadata": {},
     "output_type": "execute_result"
    }
   ],
   "source": [
    "df.head(20)"
   ]
  },
  {
   "cell_type": "markdown",
   "id": "9ba7a7c8",
   "metadata": {},
   "source": [
    "**Does median_house_value have along tail**"
   ]
  },
  {
   "cell_type": "code",
   "execution_count": 4,
   "id": "b44b14b6",
   "metadata": {
    "ExecuteTime": {
     "end_time": "2022-09-17T16:54:45.044729Z",
     "start_time": "2022-09-17T16:54:38.907347Z"
    }
   },
   "outputs": [],
   "source": [
    "import matplotlib.pyplot as plt\n",
    "import seaborn as sns\n",
    "\n",
    "%matplotlib inline"
   ]
  },
  {
   "cell_type": "code",
   "execution_count": 5,
   "id": "7d5cbd7a",
   "metadata": {
    "ExecuteTime": {
     "end_time": "2022-09-17T16:54:46.624152Z",
     "start_time": "2022-09-17T16:54:45.063093Z"
    }
   },
   "outputs": [
    {
     "data": {
      "text/plain": [
       "<AxesSubplot:xlabel='median_house_value', ylabel='Count'>"
      ]
     },
     "execution_count": 5,
     "metadata": {},
     "output_type": "execute_result"
    },
    {
     "data": {
      "image/png": "[encoded data removed]",
      "text/plain": [
       "<Figure size 640x480 with 1 Axes>"
      ]
     },
     "metadata": {},
     "output_type": "display_data"
    }
   ],
   "source": [
    "sns.histplot(df.median_house_value, bins=100)"
   ]
  },
  {
   "cell_type": "code",
   "execution_count": 6,
   "id": "714e520f",
   "metadata": {
    "ExecuteTime": {
     "end_time": "2022-09-17T16:54:46.651694Z",
     "start_time": "2022-09-17T16:54:46.626191Z"
    }
   },
   "outputs": [
    {
     "data": {
      "text/plain": [
       "Index(['longitude', 'latitude', 'housing_median_age', 'total_rooms',\n",
       "       'total_bedrooms', 'population', 'households', 'median_income',\n",
       "       'median_house_value', 'ocean_proximity'],\n",
       "      dtype='object')"
      ]
     },
     "execution_count": 6,
     "metadata": {},
     "output_type": "execute_result"
    }
   ],
   "source": [
    "df.columns"
   ]
  },
  {
   "cell_type": "code",
   "execution_count": 7,
   "id": "8ccb9e0a",
   "metadata": {
    "ExecuteTime": {
     "end_time": "2022-09-17T16:54:46.673009Z",
     "start_time": "2022-09-17T16:54:46.657974Z"
    }
   },
   "outputs": [],
   "source": [
    "df=df.drop('ocean_proximity',axis=1)"
   ]
  },
  {
   "cell_type": "code",
   "execution_count": 8,
   "id": "f1015afa",
   "metadata": {
    "ExecuteTime": {
     "end_time": "2022-09-17T16:54:46.709004Z",
     "start_time": "2022-09-17T16:54:46.685995Z"
    }
   },
   "outputs": [
    {
     "data": {
      "text/plain": [
       "Index(['longitude', 'latitude', 'housing_median_age', 'total_rooms',\n",
       "       'total_bedrooms', 'population', 'households', 'median_income',\n",
       "       'median_house_value'],\n",
       "      dtype='object')"
      ]
     },
     "execution_count": 8,
     "metadata": {},
     "output_type": "execute_result"
    }
   ],
   "source": [
    "df.columns"
   ]
  },
  {
   "cell_type": "markdown",
   "id": "d90faa02",
   "metadata": {},
   "source": [
    "**Features with null values**"
   ]
  },
  {
   "cell_type": "code",
   "execution_count": 9,
   "id": "2725dee8",
   "metadata": {
    "ExecuteTime": {
     "end_time": "2022-09-17T16:54:46.747762Z",
     "start_time": "2022-09-17T16:54:46.717443Z"
    }
   },
   "outputs": [
    {
     "data": {
      "text/plain": [
       "longitude               0\n",
       "latitude                0\n",
       "housing_median_age      0\n",
       "total_rooms             0\n",
       "total_bedrooms        207\n",
       "population              0\n",
       "households              0\n",
       "median_income           0\n",
       "median_house_value      0\n",
       "dtype: int64"
      ]
     },
     "execution_count": 9,
     "metadata": {},
     "output_type": "execute_result"
    }
   ],
   "source": [
    "a=df.isnull().sum()\n",
    "a"
   ]
  },
  {
   "cell_type": "code",
   "execution_count": 10,
   "id": "a0952943",
   "metadata": {
    "ExecuteTime": {
     "end_time": "2022-09-17T16:54:46.787173Z",
     "start_time": "2022-09-17T16:54:46.754271Z"
    }
   },
   "outputs": [
    {
     "data": {
      "text/plain": [
       "1166.0"
      ]
     },
     "execution_count": 10,
     "metadata": {},
     "output_type": "execute_result"
    }
   ],
   "source": [
    "med= df['population'].median()\n",
    "med"
   ]
  },
  {
   "cell_type": "markdown",
   "id": "78323ca7",
   "metadata": {
    "ExecuteTime": {
     "end_time": "2022-09-17T08:30:39.441134Z",
     "start_time": "2022-09-17T08:30:39.430940Z"
    }
   },
   "source": [
    "# Split the data set"
   ]
  },
  {
   "cell_type": "markdown",
   "id": "d8010dc4",
   "metadata": {},
   "source": [
    "Firstly shuffle the  data to avoid biasing"
   ]
  },
  {
   "cell_type": "code",
   "execution_count": 11,
   "id": "65702683",
   "metadata": {
    "ExecuteTime": {
     "end_time": "2022-09-17T16:54:46.823330Z",
     "start_time": "2022-09-17T16:54:46.789332Z"
    }
   },
   "outputs": [
    {
     "data": {
      "text/plain": [
       "array([20046,  3024, 15663, ...,  5390,   860, 15795])"
      ]
     },
     "execution_count": 11,
     "metadata": {},
     "output_type": "execute_result"
    }
   ],
   "source": [
    "n = len(df)\n",
    "\n",
    "idx = np.arange(n)\n",
    "np.random.seed(42)\n",
    "np.random.shuffle(idx)\n",
    "idx"
   ]
  },
  {
   "cell_type": "markdown",
   "id": "f1030760",
   "metadata": {
    "ExecuteTime": {
     "end_time": "2022-09-17T08:34:36.901023Z",
     "start_time": "2022-09-17T08:34:36.888193Z"
    }
   },
   "source": [
    "Then Split the data"
   ]
  },
  {
   "cell_type": "code",
   "execution_count": 12,
   "id": "2bf00428",
   "metadata": {
    "ExecuteTime": {
     "end_time": "2022-09-17T16:54:46.843244Z",
     "start_time": "2022-09-17T16:54:46.829921Z"
    }
   },
   "outputs": [],
   "source": [
    "val = int(n * 0.2) # Validation data 20 %\n",
    "test = int(n * 0.2)\n",
    "train = n - val - test"
   ]
  },
  {
   "cell_type": "code",
   "execution_count": 13,
   "id": "e017003c",
   "metadata": {
    "ExecuteTime": {
     "end_time": "2022-09-17T16:54:46.884750Z",
     "start_time": "2022-09-17T16:54:46.857549Z"
    }
   },
   "outputs": [],
   "source": [
    "df_train = df.iloc[idx[:train]]\n",
    "df_val = df.iloc[idx[train:train+val]]\n",
    "df_test = df.iloc[idx[train+val:]]"
   ]
  },
  {
   "cell_type": "code",
   "execution_count": 14,
   "id": "4d498ece",
   "metadata": {
    "ExecuteTime": {
     "end_time": "2022-09-17T16:54:46.905276Z",
     "start_time": "2022-09-17T16:54:46.889120Z"
    }
   },
   "outputs": [],
   "source": [
    "df_train = df_train.reset_index(drop=True)\n",
    "df_val = df_val.reset_index(drop=True)\n",
    "df_test = df_test.reset_index(drop=True)"
   ]
  },
  {
   "cell_type": "markdown",
   "id": "aacf2c46",
   "metadata": {
    "ExecuteTime": {
     "end_time": "2022-09-17T09:00:51.989840Z",
     "start_time": "2022-09-17T09:00:51.975906Z"
    }
   },
   "source": [
    "**Log transformation to median_house_value**"
   ]
  },
  {
   "cell_type": "code",
   "execution_count": 15,
   "id": "09663c43",
   "metadata": {
    "ExecuteTime": {
     "end_time": "2022-09-17T16:54:46.944985Z",
     "start_time": "2022-09-17T16:54:46.907381Z"
    }
   },
   "outputs": [],
   "source": [
    "y_train = np.log1p(df_train.median_house_value.values)\n",
    "y_val = np.log1p(df_val.median_house_value.values)\n",
    "y_test = np.log1p(df_test.median_house_value.values)"
   ]
  },
  {
   "cell_type": "markdown",
   "id": "dc9e1581",
   "metadata": {},
   "source": [
    "**Drop the target value from the dataframe**"
   ]
  },
  {
   "cell_type": "code",
   "execution_count": 16,
   "id": "4d2f43b9",
   "metadata": {
    "ExecuteTime": {
     "end_time": "2022-09-17T16:54:46.968673Z",
     "start_time": "2022-09-17T16:54:46.954093Z"
    }
   },
   "outputs": [],
   "source": [
    "del df_train['median_house_value']\n",
    "del df_val['median_house_value']\n",
    "del df_test['median_house_value']"
   ]
  },
  {
   "cell_type": "code",
   "execution_count": 17,
   "id": "fdf72c61",
   "metadata": {
    "ExecuteTime": {
     "end_time": "2022-09-17T16:54:47.202861Z",
     "start_time": "2022-09-17T16:54:46.970721Z"
    }
   },
   "outputs": [
    {
     "data": {
      "text/html": [
       "<div>\n",
       "<style scoped>\n",
       "    .dataframe tbody tr th:only-of-type {\n",
       "        vertical-align: middle;\n",
       "    }\n",
       "\n",
       "    .dataframe tbody tr th {\n",
       "        vertical-align: top;\n",
       "    }\n",
       "\n",
       "    .dataframe thead th {\n",
       "        text-align: right;\n",
       "    }\n",
       "</style>\n",
       "<table border=\"1\" class=\"dataframe\">\n",
       "  <thead>\n",
       "    <tr style=\"text-align: right;\">\n",
       "      <th></th>\n",
       "      <th>longitude</th>\n",
       "      <th>latitude</th>\n",
       "      <th>housing_median_age</th>\n",
       "      <th>total_rooms</th>\n",
       "      <th>total_bedrooms</th>\n",
       "      <th>population</th>\n",
       "      <th>households</th>\n",
       "      <th>median_income</th>\n",
       "    </tr>\n",
       "  </thead>\n",
       "  <tbody>\n",
       "    <tr>\n",
       "      <th>0</th>\n",
       "      <td>-119.01</td>\n",
       "      <td>36.06</td>\n",
       "      <td>25.0</td>\n",
       "      <td>1505.0</td>\n",
       "      <td>NaN</td>\n",
       "      <td>1392.0</td>\n",
       "      <td>359.0</td>\n",
       "      <td>1.6812</td>\n",
       "    </tr>\n",
       "    <tr>\n",
       "      <th>1</th>\n",
       "      <td>-119.46</td>\n",
       "      <td>35.14</td>\n",
       "      <td>30.0</td>\n",
       "      <td>2943.0</td>\n",
       "      <td>NaN</td>\n",
       "      <td>1565.0</td>\n",
       "      <td>584.0</td>\n",
       "      <td>2.5313</td>\n",
       "    </tr>\n",
       "    <tr>\n",
       "      <th>2</th>\n",
       "      <td>-122.44</td>\n",
       "      <td>37.80</td>\n",
       "      <td>52.0</td>\n",
       "      <td>3830.0</td>\n",
       "      <td>NaN</td>\n",
       "      <td>1310.0</td>\n",
       "      <td>963.0</td>\n",
       "      <td>3.4801</td>\n",
       "    </tr>\n",
       "    <tr>\n",
       "      <th>3</th>\n",
       "      <td>-118.72</td>\n",
       "      <td>34.28</td>\n",
       "      <td>17.0</td>\n",
       "      <td>3051.0</td>\n",
       "      <td>NaN</td>\n",
       "      <td>1705.0</td>\n",
       "      <td>495.0</td>\n",
       "      <td>5.7376</td>\n",
       "    </tr>\n",
       "    <tr>\n",
       "      <th>4</th>\n",
       "      <td>-121.93</td>\n",
       "      <td>36.62</td>\n",
       "      <td>34.0</td>\n",
       "      <td>2351.0</td>\n",
       "      <td>NaN</td>\n",
       "      <td>1063.0</td>\n",
       "      <td>428.0</td>\n",
       "      <td>3.7250</td>\n",
       "    </tr>\n",
       "  </tbody>\n",
       "</table>\n",
       "</div>"
      ],
      "text/plain": [
       "   longitude  latitude  housing_median_age  total_rooms  total_bedrooms  \\\n",
       "0    -119.01     36.06                25.0       1505.0             NaN   \n",
       "1    -119.46     35.14                30.0       2943.0             NaN   \n",
       "2    -122.44     37.80                52.0       3830.0             NaN   \n",
       "3    -118.72     34.28                17.0       3051.0             NaN   \n",
       "4    -121.93     36.62                34.0       2351.0             NaN   \n",
       "\n",
       "   population  households  median_income  \n",
       "0      1392.0       359.0         1.6812  \n",
       "1      1565.0       584.0         2.5313  \n",
       "2      1310.0       963.0         3.4801  \n",
       "3      1705.0       495.0         5.7376  \n",
       "4      1063.0       428.0         3.7250  "
      ]
     },
     "execution_count": 17,
     "metadata": {},
     "output_type": "execute_result"
    }
   ],
   "source": [
    "df_train.head()"
   ]
  },
  {
   "cell_type": "markdown",
   "id": "00a05560",
   "metadata": {},
   "source": [
    "**fill Missing values**"
   ]
  },
  {
   "cell_type": "code",
   "execution_count": 18,
   "id": "5cdc54a7",
   "metadata": {
    "ExecuteTime": {
     "end_time": "2022-09-17T16:54:47.225367Z",
     "start_time": "2022-09-17T16:54:47.205202Z"
    }
   },
   "outputs": [],
   "source": [
    "df_train_0=df_train.copy(deep=True)\n",
    "df_train_mean=df_train.copy(deep=True)"
   ]
  },
  {
   "cell_type": "code",
   "execution_count": 19,
   "id": "d25269f5",
   "metadata": {
    "ExecuteTime": {
     "end_time": "2022-09-17T16:54:47.251947Z",
     "start_time": "2022-09-17T16:54:47.229399Z"
    }
   },
   "outputs": [],
   "source": [
    "df_train_0['total_bedrooms'] = df_train_0['total_bedrooms'].fillna(value=0,inplace=False)"
   ]
  },
  {
   "cell_type": "code",
   "execution_count": 20,
   "id": "79e30bab",
   "metadata": {
    "ExecuteTime": {
     "end_time": "2022-09-17T16:54:47.290732Z",
     "start_time": "2022-09-17T16:54:47.259771Z"
    }
   },
   "outputs": [],
   "source": [
    "mean_tbd= df['total_bedrooms'].mean()\n",
    "df_train_mean['total_bedrooms'] = df_train_mean['total_bedrooms'].fillna(value=mean_tbd,inplace=False)"
   ]
  },
  {
   "cell_type": "code",
   "execution_count": 21,
   "id": "8e1d99d5",
   "metadata": {
    "ExecuteTime": {
     "end_time": "2022-09-17T16:54:47.365041Z",
     "start_time": "2022-09-17T16:54:47.292858Z"
    }
   },
   "outputs": [
    {
     "data": {
      "text/html": [
       "<div>\n",
       "<style scoped>\n",
       "    .dataframe tbody tr th:only-of-type {\n",
       "        vertical-align: middle;\n",
       "    }\n",
       "\n",
       "    .dataframe tbody tr th {\n",
       "        vertical-align: top;\n",
       "    }\n",
       "\n",
       "    .dataframe thead th {\n",
       "        text-align: right;\n",
       "    }\n",
       "</style>\n",
       "<table border=\"1\" class=\"dataframe\">\n",
       "  <thead>\n",
       "    <tr style=\"text-align: right;\">\n",
       "      <th></th>\n",
       "      <th>longitude</th>\n",
       "      <th>latitude</th>\n",
       "      <th>housing_median_age</th>\n",
       "      <th>total_rooms</th>\n",
       "      <th>total_bedrooms</th>\n",
       "      <th>population</th>\n",
       "      <th>households</th>\n",
       "      <th>median_income</th>\n",
       "    </tr>\n",
       "  </thead>\n",
       "  <tbody>\n",
       "    <tr>\n",
       "      <th>0</th>\n",
       "      <td>-119.01</td>\n",
       "      <td>36.06</td>\n",
       "      <td>25.0</td>\n",
       "      <td>1505.0</td>\n",
       "      <td>0.0</td>\n",
       "      <td>1392.0</td>\n",
       "      <td>359.0</td>\n",
       "      <td>1.6812</td>\n",
       "    </tr>\n",
       "    <tr>\n",
       "      <th>1</th>\n",
       "      <td>-119.46</td>\n",
       "      <td>35.14</td>\n",
       "      <td>30.0</td>\n",
       "      <td>2943.0</td>\n",
       "      <td>0.0</td>\n",
       "      <td>1565.0</td>\n",
       "      <td>584.0</td>\n",
       "      <td>2.5313</td>\n",
       "    </tr>\n",
       "    <tr>\n",
       "      <th>2</th>\n",
       "      <td>-122.44</td>\n",
       "      <td>37.80</td>\n",
       "      <td>52.0</td>\n",
       "      <td>3830.0</td>\n",
       "      <td>0.0</td>\n",
       "      <td>1310.0</td>\n",
       "      <td>963.0</td>\n",
       "      <td>3.4801</td>\n",
       "    </tr>\n",
       "    <tr>\n",
       "      <th>3</th>\n",
       "      <td>-118.72</td>\n",
       "      <td>34.28</td>\n",
       "      <td>17.0</td>\n",
       "      <td>3051.0</td>\n",
       "      <td>0.0</td>\n",
       "      <td>1705.0</td>\n",
       "      <td>495.0</td>\n",
       "      <td>5.7376</td>\n",
       "    </tr>\n",
       "    <tr>\n",
       "      <th>4</th>\n",
       "      <td>-121.93</td>\n",
       "      <td>36.62</td>\n",
       "      <td>34.0</td>\n",
       "      <td>2351.0</td>\n",
       "      <td>0.0</td>\n",
       "      <td>1063.0</td>\n",
       "      <td>428.0</td>\n",
       "      <td>3.7250</td>\n",
       "    </tr>\n",
       "  </tbody>\n",
       "</table>\n",
       "</div>"
      ],
      "text/plain": [
       "   longitude  latitude  housing_median_age  total_rooms  total_bedrooms  \\\n",
       "0    -119.01     36.06                25.0       1505.0             0.0   \n",
       "1    -119.46     35.14                30.0       2943.0             0.0   \n",
       "2    -122.44     37.80                52.0       3830.0             0.0   \n",
       "3    -118.72     34.28                17.0       3051.0             0.0   \n",
       "4    -121.93     36.62                34.0       2351.0             0.0   \n",
       "\n",
       "   population  households  median_income  \n",
       "0      1392.0       359.0         1.6812  \n",
       "1      1565.0       584.0         2.5313  \n",
       "2      1310.0       963.0         3.4801  \n",
       "3      1705.0       495.0         5.7376  \n",
       "4      1063.0       428.0         3.7250  "
      ]
     },
     "execution_count": 21,
     "metadata": {},
     "output_type": "execute_result"
    }
   ],
   "source": [
    "df_train_0.head()"
   ]
  },
  {
   "cell_type": "code",
   "execution_count": 22,
   "id": "e36d1107",
   "metadata": {
    "ExecuteTime": {
     "end_time": "2022-09-17T16:54:47.431213Z",
     "start_time": "2022-09-17T16:54:47.370980Z"
    }
   },
   "outputs": [
    {
     "data": {
      "text/html": [
       "<div>\n",
       "<style scoped>\n",
       "    .dataframe tbody tr th:only-of-type {\n",
       "        vertical-align: middle;\n",
       "    }\n",
       "\n",
       "    .dataframe tbody tr th {\n",
       "        vertical-align: top;\n",
       "    }\n",
       "\n",
       "    .dataframe thead th {\n",
       "        text-align: right;\n",
       "    }\n",
       "</style>\n",
       "<table border=\"1\" class=\"dataframe\">\n",
       "  <thead>\n",
       "    <tr style=\"text-align: right;\">\n",
       "      <th></th>\n",
       "      <th>longitude</th>\n",
       "      <th>latitude</th>\n",
       "      <th>housing_median_age</th>\n",
       "      <th>total_rooms</th>\n",
       "      <th>total_bedrooms</th>\n",
       "      <th>population</th>\n",
       "      <th>households</th>\n",
       "      <th>median_income</th>\n",
       "    </tr>\n",
       "  </thead>\n",
       "  <tbody>\n",
       "    <tr>\n",
       "      <th>0</th>\n",
       "      <td>-119.01</td>\n",
       "      <td>36.06</td>\n",
       "      <td>25.0</td>\n",
       "      <td>1505.0</td>\n",
       "      <td>537.870553</td>\n",
       "      <td>1392.0</td>\n",
       "      <td>359.0</td>\n",
       "      <td>1.6812</td>\n",
       "    </tr>\n",
       "    <tr>\n",
       "      <th>1</th>\n",
       "      <td>-119.46</td>\n",
       "      <td>35.14</td>\n",
       "      <td>30.0</td>\n",
       "      <td>2943.0</td>\n",
       "      <td>537.870553</td>\n",
       "      <td>1565.0</td>\n",
       "      <td>584.0</td>\n",
       "      <td>2.5313</td>\n",
       "    </tr>\n",
       "    <tr>\n",
       "      <th>2</th>\n",
       "      <td>-122.44</td>\n",
       "      <td>37.80</td>\n",
       "      <td>52.0</td>\n",
       "      <td>3830.0</td>\n",
       "      <td>537.870553</td>\n",
       "      <td>1310.0</td>\n",
       "      <td>963.0</td>\n",
       "      <td>3.4801</td>\n",
       "    </tr>\n",
       "    <tr>\n",
       "      <th>3</th>\n",
       "      <td>-118.72</td>\n",
       "      <td>34.28</td>\n",
       "      <td>17.0</td>\n",
       "      <td>3051.0</td>\n",
       "      <td>537.870553</td>\n",
       "      <td>1705.0</td>\n",
       "      <td>495.0</td>\n",
       "      <td>5.7376</td>\n",
       "    </tr>\n",
       "    <tr>\n",
       "      <th>4</th>\n",
       "      <td>-121.93</td>\n",
       "      <td>36.62</td>\n",
       "      <td>34.0</td>\n",
       "      <td>2351.0</td>\n",
       "      <td>537.870553</td>\n",
       "      <td>1063.0</td>\n",
       "      <td>428.0</td>\n",
       "      <td>3.7250</td>\n",
       "    </tr>\n",
       "  </tbody>\n",
       "</table>\n",
       "</div>"
      ],
      "text/plain": [
       "   longitude  latitude  housing_median_age  total_rooms  total_bedrooms  \\\n",
       "0    -119.01     36.06                25.0       1505.0      537.870553   \n",
       "1    -119.46     35.14                30.0       2943.0      537.870553   \n",
       "2    -122.44     37.80                52.0       3830.0      537.870553   \n",
       "3    -118.72     34.28                17.0       3051.0      537.870553   \n",
       "4    -121.93     36.62                34.0       2351.0      537.870553   \n",
       "\n",
       "   population  households  median_income  \n",
       "0      1392.0       359.0         1.6812  \n",
       "1      1565.0       584.0         2.5313  \n",
       "2      1310.0       963.0         3.4801  \n",
       "3      1705.0       495.0         5.7376  \n",
       "4      1063.0       428.0         3.7250  "
      ]
     },
     "execution_count": 22,
     "metadata": {},
     "output_type": "execute_result"
    }
   ],
   "source": [
    "df_train_mean.head()"
   ]
  },
  {
   "cell_type": "markdown",
   "id": "4ae727f6",
   "metadata": {},
   "source": [
    "#  Build a linear regression model"
   ]
  },
  {
   "cell_type": "markdown",
   "id": "32e5543d",
   "metadata": {},
   "source": [
    "**Define a function that return np array of the dataframe**"
   ]
  },
  {
   "cell_type": "code",
   "execution_count": 23,
   "id": "ad5a43c0",
   "metadata": {
    "ExecuteTime": {
     "end_time": "2022-09-17T16:54:47.447995Z",
     "start_time": "2022-09-17T16:54:47.444014Z"
    }
   },
   "outputs": [],
   "source": [
    "def prepare_X(df):\n",
    "    return df.values"
   ]
  },
  {
   "cell_type": "markdown",
   "id": "bd3be618",
   "metadata": {},
   "source": [
    "**Define a function that take array of features and labels as an argument and return weights**"
   ]
  },
  {
   "cell_type": "code",
   "execution_count": 24,
   "id": "72b80cc9",
   "metadata": {
    "ExecuteTime": {
     "end_time": "2022-09-17T16:54:47.486087Z",
     "start_time": "2022-09-17T16:54:47.462038Z"
    }
   },
   "outputs": [],
   "source": [
    "def train_linear_regression (X,y,r=0.0):\n",
    "    ones = np.ones(X.shape[0]) # return a column with ones \n",
    "    X=np.column_stack([ones,X])\n",
    "    \n",
    "    XTX = X.T.dot(X) # Transpose X Mutiplied by X\n",
    "    reg = r * np.eye(XTX.shape[0])\n",
    "    XTX = XTX + reg\n",
    "    XTX_inv = np.linalg.inv(XTX) # inverse of XTX\n",
    "    w= XTX_inv.dot(X.T).dot(y)\n",
    "    \n",
    "    return w[0], w[1:]"
   ]
  },
  {
   "cell_type": "markdown",
   "id": "b7c81b63",
   "metadata": {},
   "source": [
    "**Define a function that calculate rmse**"
   ]
  },
  {
   "cell_type": "code",
   "execution_count": 60,
   "id": "91dcac9a",
   "metadata": {
    "ExecuteTime": {
     "end_time": "2022-09-17T17:07:01.931783Z",
     "start_time": "2022-09-17T17:07:01.920277Z"
    }
   },
   "outputs": [],
   "source": [
    "def rmse(a,b):\n",
    "    er=a - b\n",
    "    mse = (er**2).mean()\n",
    "    return np.sqrt(mse)"
   ]
  },
  {
   "cell_type": "raw",
   "id": "375d2bc6",
   "metadata": {},
   "source": [
    "****First Model using zero filling****"
   ]
  },
  {
   "cell_type": "code",
   "execution_count": 61,
   "id": "328c8577",
   "metadata": {
    "ExecuteTime": {
     "end_time": "2022-09-17T17:07:03.360610Z",
     "start_time": "2022-09-17T17:07:03.351463Z"
    }
   },
   "outputs": [],
   "source": [
    "X_Train_0 = prepare_X(df_train_0)\n",
    "w_0,w = train_linear_regression(X_Train_0,y_train) "
   ]
  },
  {
   "cell_type": "markdown",
   "id": "da83a9b7",
   "metadata": {
    "ExecuteTime": {
     "end_time": "2022-09-17T09:28:35.957505Z",
     "start_time": "2022-09-17T09:28:35.944648Z"
    }
   },
   "source": [
    "**Now lets see how this model perform \"Calculate y_pred\"**"
   ]
  },
  {
   "cell_type": "code",
   "execution_count": 62,
   "id": "06c1b5ed",
   "metadata": {
    "ExecuteTime": {
     "end_time": "2022-09-17T17:07:03.772669Z",
     "start_time": "2022-09-17T17:07:03.763105Z"
    }
   },
   "outputs": [],
   "source": [
    "y_pred_0= w_0 + X_Train_0.dot(w)"
   ]
  },
  {
   "cell_type": "markdown",
   "id": "c7f63407",
   "metadata": {},
   "source": [
    "**Now lets compare between true_y and pred_y**"
   ]
  },
  {
   "cell_type": "code",
   "execution_count": 63,
   "id": "41855d59",
   "metadata": {
    "ExecuteTime": {
     "end_time": "2022-09-17T17:07:05.165744Z",
     "start_time": "2022-09-17T17:07:04.039197Z"
    }
   },
   "outputs": [
    {
     "data": {
      "image/png": "[encoded data removed]",
      "text/plain": [
       "<Figure size 600x400 with 1 Axes>"
      ]
     },
     "metadata": {},
     "output_type": "display_data"
    }
   ],
   "source": [
    "plt.figure(figsize=(6,4))\n",
    "\n",
    "sns.histplot(y_train, label= \"True_y\", color= 'r', alpha=0.6, bins=40)\n",
    "sns.histplot(y_pred_0, label= \"y_pred_0\", color= 'b', alpha=0.8, bins=40)\n",
    "\n",
    "plt.legend()\n",
    "\n",
    "plt.ylabel('Frequency')\n",
    "plt.xlabel ('log(price)')\n",
    "plt.title (\"Prediction Vs Actual distribution\")\n",
    "\n",
    "plt.show()"
   ]
  },
  {
   "cell_type": "code",
   "execution_count": 64,
   "id": "11a7ed3a",
   "metadata": {
    "ExecuteTime": {
     "end_time": "2022-09-17T17:07:05.188161Z",
     "start_time": "2022-09-17T17:07:05.173589Z"
    }
   },
   "outputs": [
    {
     "data": {
      "text/plain": [
       "0.16"
      ]
     },
     "execution_count": 64,
     "metadata": {},
     "output_type": "execute_result"
    }
   ],
   "source": [
    "e1 = rmse(y_train,y_pred_0)\n",
    "e1 = round (e1,2)\n",
    "e1"
   ]
  },
  {
   "cell_type": "raw",
   "id": "b7efa880",
   "metadata": {
    "ExecuteTime": {
     "end_time": "2022-09-17T10:09:01.982131Z",
     "start_time": "2022-09-17T10:09:01.971785Z"
    }
   },
   "source": [
    "****Second Model using mean filling****"
   ]
  },
  {
   "cell_type": "code",
   "execution_count": 65,
   "id": "d5dd21db",
   "metadata": {
    "ExecuteTime": {
     "end_time": "2022-09-17T17:07:05.301546Z",
     "start_time": "2022-09-17T17:07:05.197791Z"
    }
   },
   "outputs": [],
   "source": [
    "X_Train_mean = prepare_X(df_train_mean)\n",
    "w_0,w = train_linear_regression(X_Train_mean,y_train) "
   ]
  },
  {
   "cell_type": "markdown",
   "id": "b3c88631",
   "metadata": {},
   "source": [
    "**Now lets see how this model perform \"Calculate y_pred\"**"
   ]
  },
  {
   "cell_type": "code",
   "execution_count": 66,
   "id": "d38c8a25",
   "metadata": {
    "ExecuteTime": {
     "end_time": "2022-09-17T17:07:05.328516Z",
     "start_time": "2022-09-17T17:07:05.317603Z"
    }
   },
   "outputs": [],
   "source": [
    "y_pred_mean= w_0 + X_Train_mean.dot(w)"
   ]
  },
  {
   "cell_type": "markdown",
   "id": "4c5f8c1d",
   "metadata": {},
   "source": [
    "**Now lets compare between true_y and pred_y**"
   ]
  },
  {
   "cell_type": "code",
   "execution_count": 67,
   "id": "87c94e4f",
   "metadata": {
    "ExecuteTime": {
     "end_time": "2022-09-17T17:07:06.493171Z",
     "start_time": "2022-09-17T17:07:05.366655Z"
    }
   },
   "outputs": [
    {
     "data": {
      "image/png": "[encoded data removed]",
      "text/plain": [
       "<Figure size 600x400 with 1 Axes>"
      ]
     },
     "metadata": {},
     "output_type": "display_data"
    }
   ],
   "source": [
    "plt.figure(figsize=(6,4))\n",
    "\n",
    "sns.histplot(y_train, label= \"True_y\", color= 'r', alpha=0.6, bins=40)\n",
    "sns.histplot(y_pred_mean, label= \"y_pred_mean\", color= 'b', alpha=0.8, bins=40)\n",
    "\n",
    "plt.legend()\n",
    "\n",
    "plt.ylabel('Frequency')\n",
    "plt.xlabel ('log(price)')\n",
    "plt.title (\"Prediction Vs Actual distribution\")\n",
    "\n",
    "plt.show()"
   ]
  },
  {
   "cell_type": "code",
   "execution_count": 68,
   "id": "9a17be92",
   "metadata": {
    "ExecuteTime": {
     "end_time": "2022-09-17T17:07:06.516487Z",
     "start_time": "2022-09-17T17:07:06.501640Z"
    }
   },
   "outputs": [
    {
     "data": {
      "text/plain": [
       "0.57"
      ]
     },
     "execution_count": 68,
     "metadata": {},
     "output_type": "execute_result"
    }
   ],
   "source": [
    "e1 = rmse(y_train,y_pred_mean)\n",
    "e1 = round (e1,2)\n",
    "e1"
   ]
  },
  {
   "cell_type": "markdown",
   "id": "0ba6891e",
   "metadata": {},
   "source": [
    "**Initiate list of r values \"regularization\"**"
   ]
  },
  {
   "cell_type": "code",
   "execution_count": 69,
   "id": "b2d78ea9",
   "metadata": {
    "ExecuteTime": {
     "end_time": "2022-09-17T17:07:06.604897Z",
     "start_time": "2022-09-17T17:07:06.529865Z"
    }
   },
   "outputs": [],
   "source": [
    "r_list = [0, 0.000001, 0.0001, 0.001, 0.01, 0.1, 1, 5, 10 ]"
   ]
  },
  {
   "cell_type": "code",
   "execution_count": 70,
   "id": "2b6dd19e",
   "metadata": {
    "ExecuteTime": {
     "end_time": "2022-09-17T17:07:06.698105Z",
     "start_time": "2022-09-17T17:07:06.617205Z"
    }
   },
   "outputs": [
    {
     "name": "stdout",
     "output_type": "stream",
     "text": [
      "0 0.16\n",
      "1e-06 0.16\n",
      "0.0001 0.16\n",
      "0.001 0.16\n",
      "0.01 0.16\n",
      "0.1 0.16\n",
      "1 0.16\n",
      "5 0.17\n",
      "10 0.17\n"
     ]
    }
   ],
   "source": [
    "for r in r_list:\n",
    "    w_0, w = train_linear_regression(X_Train_0, y_train, r)\n",
    "    y_pred_0= w_0 + X_Train_0.dot(w)\n",
    "    e = round ( rmse(y_train,y_pred_0),2)\n",
    "    print (r, e)"
   ]
  },
  {
   "cell_type": "markdown",
   "id": "7b2bf3a3",
   "metadata": {},
   "source": [
    "# Try the impact of shuffling change"
   ]
  },
  {
   "cell_type": "code",
   "execution_count": 71,
   "id": "81be06e4",
   "metadata": {
    "ExecuteTime": {
     "end_time": "2022-09-17T17:07:07.236989Z",
     "start_time": "2022-09-17T17:07:07.007766Z"
    },
    "scrolled": true
   },
   "outputs": [
    {
     "name": "stdout",
     "output_type": "stream",
     "text": [
      "0 0.17\n",
      "1 0.17\n",
      "2 0.17\n",
      "3 0.16\n",
      "4 0.17\n",
      "5 0.17\n",
      "6 0.17\n",
      "7 0.16\n",
      "8 0.16\n",
      "9 0.16\n"
     ]
    }
   ],
   "source": [
    "seeds=[0,1,2,3,4,5,6,7,8,9]\n",
    "\n",
    "for s in seeds: \n",
    "           \n",
    "        n = len(df)\n",
    "    \n",
    "        val = int(n * 0.2) # Validation data 20 %\n",
    "        test = int(n * 0.2)\n",
    "        train = n - val - test\n",
    "    \n",
    "        idx = np.arange(n)\n",
    "        np.random.seed(s)\n",
    "        np.random.shuffle(idx)\n",
    "    \n",
    "    \n",
    "        df_train = df.iloc[idx[:train]]\n",
    "        df_val   = df.iloc[idx[train:train+val]]\n",
    "        df_test  = df.iloc[idx[train+val:]]\n",
    "    \n",
    "      \n",
    "        df_train = df_train.reset_index(drop=True)\n",
    "        df_val = df_val.reset_index(drop=True)\n",
    "        df_test = df_test.reset_index(drop=True)\n",
    "    \n",
    "    \n",
    "        y_train = np.log1p(df_train.median_house_value.values)\n",
    "        y_val = np.log1p(df_val.median_house_value.values)\n",
    "        y_test = np.log1p(df_test.median_house_value.values)\n",
    "    \n",
    "    \n",
    "        df_train_0=df_train.copy(deep=True)\n",
    "    \n",
    "        df_train_0['total_bedrooms'] = df_train_0['total_bedrooms'].fillna(value=0,inplace=False)\n",
    "    \n",
    "        X_Train_0 = prepare_X(df_train_0)\n",
    "        w_0,w = train_linear_regression(X_Train_0,y_train) \n",
    "    \n",
    "    \n",
    "        y_pred_0= w_0 + X_Train_0.dot(w)\n",
    "    \n",
    "    \n",
    "    \n",
    "        e = round (rmse(y_train,y_pred_0),2)\n",
    "       \n",
    "        print(s,e)"
   ]
  },
  {
   "cell_type": "markdown",
   "id": "4f7933e9",
   "metadata": {},
   "source": [
    "**Define a function that take a dataframe and list  to give a standard deviation of rmse**"
   ]
  },
  {
   "cell_type": "code",
   "execution_count": 77,
   "id": "eb778ab4",
   "metadata": {
    "ExecuteTime": {
     "end_time": "2022-09-17T17:16:18.027560Z",
     "start_time": "2022-09-17T17:16:18.003052Z"
    }
   },
   "outputs": [],
   "source": [
    "def stds_model_errors(df,seeds):\n",
    "    \n",
    "    errors = [] \n",
    "    for s in seeds: \n",
    "\n",
    "        n = len(df)\n",
    "    \n",
    "        val = int(n * 0.2) # Validation data 20 %\n",
    "        test = int(n * 0.2)\n",
    "        train = n - val - test\n",
    "    \n",
    "        idx = np.arange(n)\n",
    "        np.random.seed(s)\n",
    "        np.random.shuffle(idx)\n",
    "    \n",
    "    \n",
    "        df_train = df.iloc[idx[:train]]\n",
    "        df_val   = df.iloc[idx[train:train+val]]\n",
    "        df_test  = df.iloc[idx[train+val:]]\n",
    "    \n",
    "      \n",
    "        df_train = df_train.reset_index(drop=True)\n",
    "        df_val = df_val.reset_index(drop=True)\n",
    "        df_test = df_test.reset_index(drop=True)\n",
    "    \n",
    "    \n",
    "        y_train = np.log1p(df_train.median_house_value.values)\n",
    "        y_val = np.log1p(df_val.median_house_value.values)\n",
    "        y_test = np.log1p(df_test.median_house_value.values)\n",
    "    \n",
    "    \n",
    "        df_train_0=df_train.copy(deep=True)\n",
    "    \n",
    "        df_train_0['total_bedrooms'] = df_train_0['total_bedrooms'].fillna(value=0,inplace=False)\n",
    "    \n",
    "        X_Train_0 = prepare_X(df_train_0)\n",
    "        w_0,w = train_linear_regression(X_Train_0,y_train) \n",
    "    \n",
    "    \n",
    "        y_pred_0= w_0 + X_Train_0.dot(w)\n",
    "    \n",
    "       \n",
    "        e = round (rmse(y_train,y_pred_0),2)\n",
    "         \n",
    "        errors.append(e)\n",
    "        \n",
    "    print (round (np.std(errors),3))       "
   ]
  },
  {
   "cell_type": "code",
   "execution_count": 78,
   "id": "9e61ae53",
   "metadata": {
    "ExecuteTime": {
     "end_time": "2022-09-17T17:16:21.548446Z",
     "start_time": "2022-09-17T17:16:21.421262Z"
    }
   },
   "outputs": [
    {
     "name": "stdout",
     "output_type": "stream",
     "text": [
      "0.005\n"
     ]
    }
   ],
   "source": [
    "stds_model_errors(df,seeds)"
   ]
  },
  {
   "cell_type": "code",
   "execution_count": 80,
   "id": "9d4dc981",
   "metadata": {
    "ExecuteTime": {
     "end_time": "2022-09-17T17:22:22.056911Z",
     "start_time": "2022-09-17T17:22:22.012727Z"
    }
   },
   "outputs": [
    {
     "data": {
      "text/plain": [
       "0.16"
      ]
     },
     "execution_count": 80,
     "metadata": {},
     "output_type": "execute_result"
    }
   ],
   "source": [
    "n = len(df)\n",
    "test = int(n * 0.2)\n",
    "train = n -  test\n",
    "\n",
    "idx = np.arange(n)\n",
    "np.random.seed(9)\n",
    "np.random.shuffle(idx)\n",
    "    \n",
    "    \n",
    "df_train = df.iloc[idx[:train]]\n",
    "    \n",
    "df_test  = df.iloc[idx[train:]]\n",
    "    \n",
    "    \n",
    "df_train = df_train.reset_index(drop=True)\n",
    "     \n",
    "df_test = df_test.reset_index(drop=True)\n",
    "    \n",
    "    \n",
    "y_train = np.log1p(df_train.median_house_value.values)\n",
    "     \n",
    "y_test = np.log1p(df_test.median_house_value.values)\n",
    "    \n",
    "    \n",
    "df_train_0=df_train.copy(deep=True)\n",
    "    \n",
    "df_train_0['total_bedrooms'] = df_train_0['total_bedrooms'].fillna(value=0,inplace=False)\n",
    "    \n",
    "X_Train_0 = prepare_X(df_train_0)\n",
    "w_0,w = train_linear_regression(X_Train_0,y_train,r=0.001) \n",
    "    \n",
    "    \n",
    "y_pred_0= w_0 + X_Train_0.dot(w)\n",
    "    \n",
    "      \n",
    "e = round (rmse(y_train,y_pred_0),2)\n",
    "e"
   ]
  }
 ],
 "metadata": {
  "kernelspec": {
   "display_name": "Python 3 (ipykernel)",
   "language": "python",
   "name": "python3"
  },
  "language_info": {
   "codemirror_mode": {
    "name": "ipython",
    "version": 3
   },
   "file_extension": ".py",
   "mimetype": "text/x-python",
   "name": "python",
   "nbconvert_exporter": "python",
   "pygments_lexer": "ipython3",
   "version": "3.9.12"
  },
  "toc": {
   "base_numbering": 1,
   "nav_menu": {},
   "number_sections": true,
   "sideBar": true,
   "skip_h1_title": false,
   "title_cell": "Table of Contents",
   "title_sidebar": "Contents",
   "toc_cell": false,
   "toc_position": {},
   "toc_section_display": true,
   "toc_window_display": false
  }
 },
 "nbformat": 4,
 "nbformat_minor": 5
}
